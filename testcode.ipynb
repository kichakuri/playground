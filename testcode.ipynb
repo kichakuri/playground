{
 "cells": [
  {
   "cell_type": "code",
   "execution_count": 12,
   "id": "3fcd8913",
   "metadata": {},
   "outputs": [
    {
     "data": {
      "text/plain": [
       "Month\n",
       "1.0     27085680.0\n",
       "2.0     37175665.0\n",
       "3.0     27664622.0\n",
       "4.0      3691385.0\n",
       "5.0     17492920.0\n",
       "6.0      9532518.0\n",
       "7.0     15280307.0\n",
       "8.0     20241056.0\n",
       "9.0      8588551.0\n",
       "10.0    14014861.0\n",
       "11.0     8631063.0\n",
       "12.0     3648265.0\n",
       "Name: Invoice Amount, dtype: float64"
      ]
     },
     "execution_count": 12,
     "metadata": {},
     "output_type": "execute_result"
    }
   ],
   "source": [
    "import pandas as pd\n",
    "df=pd.read_csv('schoolproformainvoicedatesandexamcount.csv',\n",
    "              usecols=['School Name', 'Creation Date', 'Proforma Amount', 'Proforma Date','Invoice Amount', 'Invoice Date', 'Exam Series Created'])\n",
    "date_col = pd.DatetimeIndex(df['Invoice Date'],dayfirst=True)\n",
    "df['Month'] = date_col.month\n",
    "df.groupby('Month')['Invoice Amount'].sum()\n",
    "#df.head(10)"
   ]
  },
  {
   "cell_type": "code",
   "execution_count": 20,
   "id": "c217abf8",
   "metadata": {
    "scrolled": true
   },
   "outputs": [
    {
     "data": {
      "text/plain": [
       "YEAR\n",
       "2020    5.145550e+07\n",
       "2021    1.067555e+08\n",
       "2022    7.437852e+07\n",
       "2023    7.289744e+08\n",
       "Name: NET AMOUNT, dtype: float64"
      ]
     },
     "execution_count": 20,
     "metadata": {},
     "output_type": "execute_result"
    }
   ],
   "source": [
    "import pandas as pd\n",
    "\n",
    "datafile='zeraki_invoices_up_to_230618.csv'\n",
    "#Code to check the encoding of datafile\n",
    "#with open('zeraki_invoices_up_to_230618.csv') as f:\n",
    "#    print(f)\n",
    "\n",
    "\n",
    "df=pd.read_csv(f'{datafile}', encoding='utf-8')\n",
    "datecol = pd.DatetimeIndex(df['INVOICE DATE'],dayfirst=True)\n",
    "df['YEAR']=datecol.year\n",
    "df['MONTH']=datecol.month\n",
    "#df.dtypes\n",
    "#df.columns\n",
    "df.groupby('YEAR')['NET AMOUNT'].sum()"
   ]
  },
  {
   "cell_type": "code",
   "execution_count": null,
   "id": "047d7232",
   "metadata": {},
   "outputs": [],
   "source": []
  }
 ],
 "metadata": {
  "kernelspec": {
   "display_name": "Python 3 (ipykernel)",
   "language": "python",
   "name": "python3"
  },
  "language_info": {
   "codemirror_mode": {
    "name": "ipython",
    "version": 3
   },
   "file_extension": ".py",
   "mimetype": "text/x-python",
   "name": "python",
   "nbconvert_exporter": "python",
   "pygments_lexer": "ipython3",
   "version": "3.10.9"
  }
 },
 "nbformat": 4,
 "nbformat_minor": 5
}
